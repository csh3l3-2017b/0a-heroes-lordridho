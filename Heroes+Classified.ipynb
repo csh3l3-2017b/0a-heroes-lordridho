{
 "cells": [
  {
   "cell_type": "markdown",
   "metadata": {},
   "source": [
    "TUGAS 0A Heroes Classifier!\n",
    "\n",
    "Nama: M. Ridho Rahmadinanto\n",
    "\n",
    "Kelas: IF-39-02\n",
    "\n",
    "NIM: 1301154226\n"
   ]
  },
  {
   "cell_type": "code",
   "execution_count": 2,
   "metadata": {
    "collapsed": true
   },
   "outputs": [],
   "source": [
    "import pandas as pd"
   ]
  },
  {
   "cell_type": "code",
   "execution_count": 24,
   "metadata": {},
   "outputs": [
    {
     "data": {
      "text/html": [
       "<div>\n",
       "<style>\n",
       "    .dataframe thead tr:only-child th {\n",
       "        text-align: right;\n",
       "    }\n",
       "\n",
       "    .dataframe thead th {\n",
       "        text-align: left;\n",
       "    }\n",
       "\n",
       "    .dataframe tbody tr th {\n",
       "        vertical-align: top;\n",
       "    }\n",
       "</style>\n",
       "<table border=\"1\" class=\"dataframe\">\n",
       "  <thead>\n",
       "    <tr style=\"text-align: right;\">\n",
       "      <th></th>\n",
       "      <th>name</th>\n",
       "      <th>movementSpeed</th>\n",
       "      <th>physicalAttack</th>\n",
       "      <th>armor</th>\n",
       "      <th>hp</th>\n",
       "      <th>mana</th>\n",
       "    </tr>\n",
       "  </thead>\n",
       "  <tbody>\n",
       "    <tr>\n",
       "      <th>0</th>\n",
       "      <td>Layla</td>\n",
       "      <td>270</td>\n",
       "      <td>118</td>\n",
       "      <td>15</td>\n",
       "      <td>2500</td>\n",
       "      <td>424</td>\n",
       "    </tr>\n",
       "    <tr>\n",
       "      <th>1</th>\n",
       "      <td>Cyclops</td>\n",
       "      <td>250</td>\n",
       "      <td>107</td>\n",
       "      <td>18</td>\n",
       "      <td>2461</td>\n",
       "      <td>500</td>\n",
       "    </tr>\n",
       "    <tr>\n",
       "      <th>2</th>\n",
       "      <td>Minotaur</td>\n",
       "      <td>265</td>\n",
       "      <td>123</td>\n",
       "      <td>25</td>\n",
       "      <td>2705</td>\n",
       "      <td>0</td>\n",
       "    </tr>\n",
       "    <tr>\n",
       "      <th>3</th>\n",
       "      <td>Saber</td>\n",
       "      <td>265</td>\n",
       "      <td>121</td>\n",
       "      <td>17</td>\n",
       "      <td>2475</td>\n",
       "      <td>443</td>\n",
       "    </tr>\n",
       "    <tr>\n",
       "      <th>4</th>\n",
       "      <td>Roger</td>\n",
       "      <td>235</td>\n",
       "      <td>120</td>\n",
       "      <td>22</td>\n",
       "      <td>2580</td>\n",
       "      <td>450</td>\n",
       "    </tr>\n",
       "  </tbody>\n",
       "</table>\n",
       "</div>"
      ],
      "text/plain": [
       "       name  movementSpeed  physicalAttack  armor    hp  mana\n",
       "0     Layla            270             118     15  2500   424\n",
       "1   Cyclops            250             107     18  2461   500\n",
       "2  Minotaur            265             123     25  2705     0\n",
       "3     Saber            265             121     17  2475   443\n",
       "4     Roger            235             120     22  2580   450"
      ]
     },
     "execution_count": 24,
     "metadata": {},
     "output_type": "execute_result"
    }
   ],
   "source": [
    "new = pd.read_csv(\"E:/Machine Learning/test.csv\")\n",
    "new.head()"
   ]
  },
  {
   "cell_type": "markdown",
   "metadata": {},
   "source": [
    "membaca file test.csv dan menampilkan data nya"
   ]
  },
  {
   "cell_type": "code",
   "execution_count": 25,
   "metadata": {
    "collapsed": true
   },
   "outputs": [],
   "source": [
    "Role = []"
   ]
  },
  {
   "cell_type": "code",
   "execution_count": 26,
   "metadata": {},
   "outputs": [],
   "source": [
    "for data in range(len(new)):\n",
    "    if new[\"movementSpeed\"][data] >= 270:\n",
    "        Role.append(\"MARKSMAN\")\n",
    "    elif new[\"mana\"][data] >= 500:\n",
    "        Role.append(\"MAGE\")\n",
    "    elif new[\"armor\"][data] >= 25:\n",
    "        Role.append(\"TANK\")\n",
    "    elif new[\"physicalAttack\"][data] >=121:\n",
    "        Role.append(\"ASSASSIN\")\n",
    "    elif new[\"hp\"][data] >= 2580:\n",
    "        Role.append(\"FIGHTER\")\n",
    "    else:\n",
    "        Role.append(\"SUPPORT\")"
   ]
  },
  {
   "cell_type": "markdown",
   "metadata": {},
   "source": [
    "Misi Anda adalah menentukan, apa peran dari masing-masing hero yang membutuhkan bantuan dari program Anda, dengan aturan sebagai berikut secara berurutan (hero mendapatkan peran yang paling awal memenuhi syarat):\n",
    "\n",
    "    1. Heroes yang memiliki movementSpeed >= 270, akan mendapat peran sebagai MARKSMAN (huruf kapital semua)\n",
    "\n",
    "    2. Heroes dengan mana >= 500, akan mendapat peran sebagai MAGE (huruf kapital semua)\n",
    "\n",
    "    3. Heroes dengan armor >= 25, akan mendapat peran sebagai TANK (huruf kapital semua)\n",
    "\n",
    "    4. Heroes dengan physicalAttack >= 121, akan mendapat peran sebagai ASSASSIN (huruf kapital semua)\n",
    "\n",
    "    5. Heroes dengan hp >= 2580, akan mendapat peran sebagai FIGHTER (huruf kapital semua)\n",
    "\n",
    "    6.Heroes lainnya akan mendapat peran sebagai SUPPORT (huruf kapital semua)"
   ]
  },
  {
   "cell_type": "code",
   "execution_count": 27,
   "metadata": {},
   "outputs": [],
   "source": [
    "hasil = pd.DataFrame({\n",
    "    \"name\" : new[\"name\"], \n",
    "    \"role\" : Role\n",
    "})\n",
    "\n",
    "hasil.to_csv('prediction.csv', index = False)"
   ]
  },
  {
   "cell_type": "markdown",
   "metadata": {},
   "source": [
    "hasil akhir di masukkan ke dalam file prediction.csv yang berisi nama hero dan role nya masing-masing"
   ]
  }
 ],
 "metadata": {
  "kernelspec": {
   "display_name": "Python 3",
   "language": "python",
   "name": "python3"
  },
  "language_info": {
   "codemirror_mode": {
    "name": "ipython",
    "version": 3
   },
   "file_extension": ".py",
   "mimetype": "text/x-python",
   "name": "python",
   "nbconvert_exporter": "python",
   "pygments_lexer": "ipython3",
   "version": "3.6.3"
  }
 },
 "nbformat": 4,
 "nbformat_minor": 2
}
